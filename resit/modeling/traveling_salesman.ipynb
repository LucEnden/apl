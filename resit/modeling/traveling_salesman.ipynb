{
 "cells": [
  {
   "cell_type": "markdown",
   "metadata": {},
   "source": [
    "## Problem description\n",
    "\n",
    "> ![traveling_salesman.png](./traveling_salesman.png)"
   ]
  },
  {
   "cell_type": "markdown",
   "metadata": {},
   "source": [
    "## Definitions\n",
    "\n",
    "Ive taken these from my math 3 notes from the last AP semester:\n",
    "- **Graph** `G = (V, E)`, where `V` and `E` are sets of vertices and edges respectivly.\n",
    "- An edge is a set of conections between vertices (at most of size 2). For example: `G = { { a, b, c }, { {a, b}, {b, c}, {c, a} } }` is a graph with vertices `a`, `b` and `c` and connection from `a` to `b`, `b` to `c` and `c` to `a`.  \n",
    "- **Path** `P` in a graph `G(V,E)` consists of an alternating sequence of vertices and edges of the form: `P = (v0, e1, v1, e2, v2, … , eN, vN)`\n",
    "- **Trail:** A path P is called a trail if all edges are distinct\n",
    "- **Distance**: the length of the shortest path between vertices `u` and `v`, written `d(u,v)`\n",
    "\n",
    "Ive also annotated the vertexes in the assignment illustration for future refrence:\n",
    "\n",
    "![traveling_salesman_with_vertexes.png](./traveling_salesman_with_vertexes.png)"
   ]
  },
  {
   "cell_type": "markdown",
   "metadata": {},
   "source": [
    "## SMT Solution explained\n",
    "\n"
   ]
  },
  {
   "cell_type": "markdown",
   "metadata": {},
   "source": [
    "## Manual solution\n",
    "\n",
    "I'll start with manually solving the problem."
   ]
  },
  {
   "cell_type": "code",
   "execution_count": 3,
   "metadata": {},
   "outputs": [],
   "source": [
    "import pandas as pd\n",
    "\n",
    "df = pd.DataFrame({\n",
    "    'A': [0, 6, 7, 0, 0, 0],\n",
    "    'B': [6, 0, 1, 4, 3, 0],\n",
    "    'C': [7, 1, 0, 0, 2, 1],\n",
    "    'D': [0, 4, 0, 0, 5, 0],\n",
    "    'E': [0, 3, 2, 5, 0, 3],\n",
    "    'F': [0, 0, 1, 0, 3, 0],\n",
    "})\n",
    "df.set_index(pd.Index(['A', 'B', 'C', 'D', 'E', 'F']), inplace=True)\n",
    "# df"
   ]
  },
  {
   "cell_type": "markdown",
   "metadata": {},
   "source": [
    "### Custom brute force search"
   ]
  },
  {
   "cell_type": "code",
   "execution_count": null,
   "metadata": {},
   "outputs": [],
   "source": [
    "def rec(\n",
    "    v: str,         # current vertex\n",
    "    visited=[],     # visited vertices\n",
    "    cP=0,           # current path length\n",
    "):\n",
    "    visited.append(v)\n",
    "    \n",
    "    if len(visited) == len(df):\n",
    "        print(\"Path:\", \" -> \".join(visited), \"| Length:\", cP)\n",
    "        visited.pop()\n",
    "        return visited, cP\n",
    "    \n",
    "    for neighbor, weight in zip(df.columns, df.loc[v]):\n",
    "        if weight > 0 and neighbor not in visited:\n",
    "            rec(neighbor, visited, cP + weight)\n",
    "    \n",
    "    visited.pop()"
   ]
  },
  {
   "cell_type": "code",
   "execution_count": 5,
   "metadata": {},
   "outputs": [
    {
     "name": "stdout",
     "output_type": "stream",
     "text": [
      "Path: A -> B -> C -> F -> E -> D | Length: 16\n",
      "Path: A -> B -> D -> E -> C -> F | Length: 18\n",
      "Path: A -> B -> D -> E -> F -> C | Length: 19\n",
      "Path: A -> C -> B -> D -> E -> F | Length: 20\n",
      "Path: A -> C -> F -> E -> B -> D | Length: 18\n",
      "Path: A -> C -> F -> E -> D -> B | Length: 20\n",
      "Path: B -> A -> C -> F -> E -> D | Length: 22\n",
      "Path: B -> D -> E -> F -> C -> A | Length: 20\n",
      "Path: C -> A -> B -> D -> E -> F | Length: 25\n",
      "Path: C -> F -> E -> D -> B -> A | Length: 19\n",
      "Path: D -> B -> A -> C -> E -> F | Length: 22\n",
      "Path: D -> B -> A -> C -> F -> E | Length: 21\n",
      "Path: D -> B -> E -> F -> C -> A | Length: 18\n",
      "Path: D -> E -> B -> A -> C -> F | Length: 22\n",
      "Path: D -> E -> F -> C -> A -> B | Length: 22\n",
      "Path: D -> E -> F -> C -> B -> A | Length: 16\n",
      "Path: E -> D -> B -> A -> C -> F | Length: 23\n",
      "Path: E -> F -> C -> A -> B -> D | Length: 21\n",
      "Path: F -> C -> A -> B -> D -> E | Length: 23\n",
      "Path: F -> C -> A -> B -> E -> D | Length: 22\n",
      "Path: F -> C -> E -> D -> B -> A | Length: 18\n",
      "Path: F -> E -> C -> A -> B -> D | Length: 22\n",
      "Path: F -> E -> D -> B -> A -> C | Length: 25\n",
      "Path: F -> E -> D -> B -> C -> A | Length: 20\n"
     ]
    }
   ],
   "source": [
    "shortests = -1\n",
    "\n",
    "for v in df.index:\n",
    "    rec(v)"
   ]
  },
  {
   "cell_type": "markdown",
   "metadata": {},
   "source": [
    "### Using Floyd-Warshall algorithm implementation from scipy"
   ]
  },
  {
   "cell_type": "code",
   "execution_count": 6,
   "metadata": {},
   "outputs": [],
   "source": [
    "from scipy.sparse import csr_array\n",
    "from scipy.sparse.csgraph import floyd_warshall"
   ]
  },
  {
   "cell_type": "code",
   "execution_count": 7,
   "metadata": {},
   "outputs": [
    {
     "data": {
      "text/plain": [
       "<Compressed Sparse Row sparse array of dtype 'int64'\n",
       "\twith 18 stored elements and shape (6, 6)>"
      ]
     },
     "execution_count": 7,
     "metadata": {},
     "output_type": "execute_result"
    }
   ],
   "source": [
    "graph = csr_array(df.to_numpy())\n",
    "graph"
   ]
  },
  {
   "cell_type": "code",
   "execution_count": 8,
   "metadata": {},
   "outputs": [
    {
     "name": "stdout",
     "output_type": "stream",
     "text": [
      "<Compressed Sparse Row sparse array of dtype 'int64'\n",
      "\twith 18 stored elements and shape (6, 6)>\n",
      "  Coords\tValues\n",
      "  (0, 1)\t6\n",
      "  (0, 2)\t7\n",
      "  (1, 0)\t6\n",
      "  (1, 2)\t1\n",
      "  (1, 3)\t4\n",
      "  (1, 4)\t3\n",
      "  (2, 0)\t7\n",
      "  (2, 1)\t1\n",
      "  (2, 4)\t2\n",
      "  (2, 5)\t1\n",
      "  (3, 1)\t4\n",
      "  (3, 4)\t5\n",
      "  (4, 1)\t3\n",
      "  (4, 2)\t2\n",
      "  (4, 3)\t5\n",
      "  (4, 5)\t3\n",
      "  (5, 2)\t1\n",
      "  (5, 4)\t3\n"
     ]
    }
   ],
   "source": [
    "print(graph)"
   ]
  },
  {
   "cell_type": "code",
   "execution_count": 9,
   "metadata": {},
   "outputs": [],
   "source": [
    "dist_matrix, predecessors = floyd_warshall(\n",
    "    csgraph=graph, \n",
    "    directed=False, \n",
    "    return_predecessors=True\n",
    ")"
   ]
  },
  {
   "cell_type": "code",
   "execution_count": 10,
   "metadata": {},
   "outputs": [
    {
     "data": {
      "text/plain": [
       "array([[ 0.,  6.,  7., 10.,  9.,  8.],\n",
       "       [ 6.,  0.,  1.,  4.,  3.,  2.],\n",
       "       [ 7.,  1.,  0.,  5.,  2.,  1.],\n",
       "       [10.,  4.,  5.,  0.,  5.,  6.],\n",
       "       [ 9.,  3.,  2.,  5.,  0.,  3.],\n",
       "       [ 8.,  2.,  1.,  6.,  3.,  0.]])"
      ]
     },
     "execution_count": 10,
     "metadata": {},
     "output_type": "execute_result"
    }
   ],
   "source": [
    "dist_matrix"
   ]
  },
  {
   "cell_type": "code",
   "execution_count": 11,
   "metadata": {},
   "outputs": [
    {
     "data": {
      "text/plain": [
       "array([[-9999,     0,     0,     1,     1,     2],\n",
       "       [    1, -9999,     1,     1,     1,     2],\n",
       "       [    2,     2, -9999,     1,     2,     2],\n",
       "       [    1,     3,     1, -9999,     3,     2],\n",
       "       [    1,     4,     4,     4, -9999,     4],\n",
       "       [    2,     2,     5,     1,     5, -9999]], dtype=int32)"
      ]
     },
     "execution_count": 11,
     "metadata": {},
     "output_type": "execute_result"
    }
   ],
   "source": [
    "predecessors"
   ]
  },
  {
   "cell_type": "code",
   "execution_count": 12,
   "metadata": {},
   "outputs": [
    {
     "data": {
      "application/vnd.plotly.v1+json": {
       "config": {
        "plotlyServerURL": "https://plot.ly"
       },
       "data": [
        {
         "hoverinfo": "text",
         "line": {
          "color": "red",
          "width": 3
         },
         "mode": "lines",
         "text": "A ↔ B (6.0)",
         "type": "scatter",
         "x": [
          1.2042065706722014,
          -0.0400858584649645,
          null
         ],
         "y": [
          0.8940571225926296,
          0.7622360445401324,
          null
         ]
        },
        {
         "hoverinfo": "text",
         "line": {
          "color": "gray",
          "width": 1
         },
         "mode": "lines",
         "text": "A ↔ C (7.0)",
         "type": "scatter",
         "x": [
          1.2042065706722014,
          0.7099657463932234,
          null
         ],
         "y": [
          0.8940571225926296,
          -0.255449925425365,
          null
         ]
        },
        {
         "hoverinfo": "text",
         "line": {
          "color": "red",
          "width": 3
         },
         "mode": "lines",
         "text": "B ↔ C (1.0)",
         "type": "scatter",
         "x": [
          -0.0400858584649645,
          0.7099657463932234,
          null
         ],
         "y": [
          0.7622360445401324,
          -0.255449925425365,
          null
         ]
        },
        {
         "hoverinfo": "text",
         "line": {
          "color": "red",
          "width": 3
         },
         "mode": "lines",
         "text": "B ↔ D (4.0)",
         "type": "scatter",
         "x": [
          -0.0400858584649645,
          -1.2827085760172905,
          null
         ],
         "y": [
          0.7622360445401324,
          0.6155076299441162,
          null
         ]
        },
        {
         "hoverinfo": "text",
         "line": {
          "color": "red",
          "width": 3
         },
         "mode": "lines",
         "text": "B ↔ E (3.0)",
         "type": "scatter",
         "x": [
          -0.0400858584649645,
          -0.5464019591010044,
          null
         ],
         "y": [
          0.7622360445401324,
          -0.3961706843990852,
          null
         ]
        },
        {
         "hoverinfo": "text",
         "line": {
          "color": "gray",
          "width": 1
         },
         "mode": "lines",
         "text": "C ↔ E (2.0)",
         "type": "scatter",
         "x": [
          0.7099657463932234,
          -0.5464019591010044,
          null
         ],
         "y": [
          -0.255449925425365,
          -0.3961706843990852,
          null
         ]
        },
        {
         "hoverinfo": "text",
         "line": {
          "color": "red",
          "width": 3
         },
         "mode": "lines",
         "text": "C ↔ F (1.0)",
         "type": "scatter",
         "x": [
          0.7099657463932234,
          0.20197993417233714,
          null
         ],
         "y": [
          -0.255449925425365,
          -1.3989493178210468,
          null
         ]
        },
        {
         "hoverinfo": "text",
         "line": {
          "color": "gray",
          "width": 1
         },
         "mode": "lines",
         "text": "D ↔ E (5.0)",
         "type": "scatter",
         "x": [
          -1.2827085760172905,
          -0.5464019591010044,
          null
         ],
         "y": [
          0.6155076299441162,
          -0.3961706843990852,
          null
         ]
        },
        {
         "hoverinfo": "text",
         "line": {
          "color": "gray",
          "width": 1
         },
         "mode": "lines",
         "text": "E ↔ F (3.0)",
         "type": "scatter",
         "x": [
          -0.5464019591010044,
          0.20197993417233714,
          null
         ],
         "y": [
          -0.3961706843990852,
          -1.3989493178210468,
          null
         ]
        },
        {
         "marker": {
          "color": "blue",
          "size": 10
         },
         "mode": "markers+text",
         "text": [
          "A",
          "B",
          "C",
          "D",
          "E",
          "F"
         ],
         "textposition": "top center",
         "type": "scatter",
         "x": [
          1.2042065706722014,
          -0.0400858584649645,
          0.7099657463932234,
          -1.2827085760172905,
          -0.5464019591010044,
          0.20197993417233714
         ],
         "y": [
          0.8940571225926296,
          0.7622360445401324,
          -0.255449925425365,
          0.6155076299441162,
          -0.3961706843990852,
          -1.3989493178210468
         ]
        }
       ],
       "layout": {
        "showlegend": false,
        "template": {
         "data": {
          "bar": [
           {
            "error_x": {
             "color": "#2a3f5f"
            },
            "error_y": {
             "color": "#2a3f5f"
            },
            "marker": {
             "line": {
              "color": "#E5ECF6",
              "width": 0.5
             },
             "pattern": {
              "fillmode": "overlay",
              "size": 10,
              "solidity": 0.2
             }
            },
            "type": "bar"
           }
          ],
          "barpolar": [
           {
            "marker": {
             "line": {
              "color": "#E5ECF6",
              "width": 0.5
             },
             "pattern": {
              "fillmode": "overlay",
              "size": 10,
              "solidity": 0.2
             }
            },
            "type": "barpolar"
           }
          ],
          "carpet": [
           {
            "aaxis": {
             "endlinecolor": "#2a3f5f",
             "gridcolor": "white",
             "linecolor": "white",
             "minorgridcolor": "white",
             "startlinecolor": "#2a3f5f"
            },
            "baxis": {
             "endlinecolor": "#2a3f5f",
             "gridcolor": "white",
             "linecolor": "white",
             "minorgridcolor": "white",
             "startlinecolor": "#2a3f5f"
            },
            "type": "carpet"
           }
          ],
          "choropleth": [
           {
            "colorbar": {
             "outlinewidth": 0,
             "ticks": ""
            },
            "type": "choropleth"
           }
          ],
          "contour": [
           {
            "colorbar": {
             "outlinewidth": 0,
             "ticks": ""
            },
            "colorscale": [
             [
              0,
              "#0d0887"
             ],
             [
              0.1111111111111111,
              "#46039f"
             ],
             [
              0.2222222222222222,
              "#7201a8"
             ],
             [
              0.3333333333333333,
              "#9c179e"
             ],
             [
              0.4444444444444444,
              "#bd3786"
             ],
             [
              0.5555555555555556,
              "#d8576b"
             ],
             [
              0.6666666666666666,
              "#ed7953"
             ],
             [
              0.7777777777777778,
              "#fb9f3a"
             ],
             [
              0.8888888888888888,
              "#fdca26"
             ],
             [
              1,
              "#f0f921"
             ]
            ],
            "type": "contour"
           }
          ],
          "contourcarpet": [
           {
            "colorbar": {
             "outlinewidth": 0,
             "ticks": ""
            },
            "type": "contourcarpet"
           }
          ],
          "heatmap": [
           {
            "colorbar": {
             "outlinewidth": 0,
             "ticks": ""
            },
            "colorscale": [
             [
              0,
              "#0d0887"
             ],
             [
              0.1111111111111111,
              "#46039f"
             ],
             [
              0.2222222222222222,
              "#7201a8"
             ],
             [
              0.3333333333333333,
              "#9c179e"
             ],
             [
              0.4444444444444444,
              "#bd3786"
             ],
             [
              0.5555555555555556,
              "#d8576b"
             ],
             [
              0.6666666666666666,
              "#ed7953"
             ],
             [
              0.7777777777777778,
              "#fb9f3a"
             ],
             [
              0.8888888888888888,
              "#fdca26"
             ],
             [
              1,
              "#f0f921"
             ]
            ],
            "type": "heatmap"
           }
          ],
          "histogram": [
           {
            "marker": {
             "pattern": {
              "fillmode": "overlay",
              "size": 10,
              "solidity": 0.2
             }
            },
            "type": "histogram"
           }
          ],
          "histogram2d": [
           {
            "colorbar": {
             "outlinewidth": 0,
             "ticks": ""
            },
            "colorscale": [
             [
              0,
              "#0d0887"
             ],
             [
              0.1111111111111111,
              "#46039f"
             ],
             [
              0.2222222222222222,
              "#7201a8"
             ],
             [
              0.3333333333333333,
              "#9c179e"
             ],
             [
              0.4444444444444444,
              "#bd3786"
             ],
             [
              0.5555555555555556,
              "#d8576b"
             ],
             [
              0.6666666666666666,
              "#ed7953"
             ],
             [
              0.7777777777777778,
              "#fb9f3a"
             ],
             [
              0.8888888888888888,
              "#fdca26"
             ],
             [
              1,
              "#f0f921"
             ]
            ],
            "type": "histogram2d"
           }
          ],
          "histogram2dcontour": [
           {
            "colorbar": {
             "outlinewidth": 0,
             "ticks": ""
            },
            "colorscale": [
             [
              0,
              "#0d0887"
             ],
             [
              0.1111111111111111,
              "#46039f"
             ],
             [
              0.2222222222222222,
              "#7201a8"
             ],
             [
              0.3333333333333333,
              "#9c179e"
             ],
             [
              0.4444444444444444,
              "#bd3786"
             ],
             [
              0.5555555555555556,
              "#d8576b"
             ],
             [
              0.6666666666666666,
              "#ed7953"
             ],
             [
              0.7777777777777778,
              "#fb9f3a"
             ],
             [
              0.8888888888888888,
              "#fdca26"
             ],
             [
              1,
              "#f0f921"
             ]
            ],
            "type": "histogram2dcontour"
           }
          ],
          "mesh3d": [
           {
            "colorbar": {
             "outlinewidth": 0,
             "ticks": ""
            },
            "type": "mesh3d"
           }
          ],
          "parcoords": [
           {
            "line": {
             "colorbar": {
              "outlinewidth": 0,
              "ticks": ""
             }
            },
            "type": "parcoords"
           }
          ],
          "pie": [
           {
            "automargin": true,
            "type": "pie"
           }
          ],
          "scatter": [
           {
            "fillpattern": {
             "fillmode": "overlay",
             "size": 10,
             "solidity": 0.2
            },
            "type": "scatter"
           }
          ],
          "scatter3d": [
           {
            "line": {
             "colorbar": {
              "outlinewidth": 0,
              "ticks": ""
             }
            },
            "marker": {
             "colorbar": {
              "outlinewidth": 0,
              "ticks": ""
             }
            },
            "type": "scatter3d"
           }
          ],
          "scattercarpet": [
           {
            "marker": {
             "colorbar": {
              "outlinewidth": 0,
              "ticks": ""
             }
            },
            "type": "scattercarpet"
           }
          ],
          "scattergeo": [
           {
            "marker": {
             "colorbar": {
              "outlinewidth": 0,
              "ticks": ""
             }
            },
            "type": "scattergeo"
           }
          ],
          "scattergl": [
           {
            "marker": {
             "colorbar": {
              "outlinewidth": 0,
              "ticks": ""
             }
            },
            "type": "scattergl"
           }
          ],
          "scattermap": [
           {
            "marker": {
             "colorbar": {
              "outlinewidth": 0,
              "ticks": ""
             }
            },
            "type": "scattermap"
           }
          ],
          "scattermapbox": [
           {
            "marker": {
             "colorbar": {
              "outlinewidth": 0,
              "ticks": ""
             }
            },
            "type": "scattermapbox"
           }
          ],
          "scatterpolar": [
           {
            "marker": {
             "colorbar": {
              "outlinewidth": 0,
              "ticks": ""
             }
            },
            "type": "scatterpolar"
           }
          ],
          "scatterpolargl": [
           {
            "marker": {
             "colorbar": {
              "outlinewidth": 0,
              "ticks": ""
             }
            },
            "type": "scatterpolargl"
           }
          ],
          "scatterternary": [
           {
            "marker": {
             "colorbar": {
              "outlinewidth": 0,
              "ticks": ""
             }
            },
            "type": "scatterternary"
           }
          ],
          "surface": [
           {
            "colorbar": {
             "outlinewidth": 0,
             "ticks": ""
            },
            "colorscale": [
             [
              0,
              "#0d0887"
             ],
             [
              0.1111111111111111,
              "#46039f"
             ],
             [
              0.2222222222222222,
              "#7201a8"
             ],
             [
              0.3333333333333333,
              "#9c179e"
             ],
             [
              0.4444444444444444,
              "#bd3786"
             ],
             [
              0.5555555555555556,
              "#d8576b"
             ],
             [
              0.6666666666666666,
              "#ed7953"
             ],
             [
              0.7777777777777778,
              "#fb9f3a"
             ],
             [
              0.8888888888888888,
              "#fdca26"
             ],
             [
              1,
              "#f0f921"
             ]
            ],
            "type": "surface"
           }
          ],
          "table": [
           {
            "cells": {
             "fill": {
              "color": "#EBF0F8"
             },
             "line": {
              "color": "white"
             }
            },
            "header": {
             "fill": {
              "color": "#C8D4E3"
             },
             "line": {
              "color": "white"
             }
            },
            "type": "table"
           }
          ]
         },
         "layout": {
          "annotationdefaults": {
           "arrowcolor": "#2a3f5f",
           "arrowhead": 0,
           "arrowwidth": 1
          },
          "autotypenumbers": "strict",
          "coloraxis": {
           "colorbar": {
            "outlinewidth": 0,
            "ticks": ""
           }
          },
          "colorscale": {
           "diverging": [
            [
             0,
             "#8e0152"
            ],
            [
             0.1,
             "#c51b7d"
            ],
            [
             0.2,
             "#de77ae"
            ],
            [
             0.3,
             "#f1b6da"
            ],
            [
             0.4,
             "#fde0ef"
            ],
            [
             0.5,
             "#f7f7f7"
            ],
            [
             0.6,
             "#e6f5d0"
            ],
            [
             0.7,
             "#b8e186"
            ],
            [
             0.8,
             "#7fbc41"
            ],
            [
             0.9,
             "#4d9221"
            ],
            [
             1,
             "#276419"
            ]
           ],
           "sequential": [
            [
             0,
             "#0d0887"
            ],
            [
             0.1111111111111111,
             "#46039f"
            ],
            [
             0.2222222222222222,
             "#7201a8"
            ],
            [
             0.3333333333333333,
             "#9c179e"
            ],
            [
             0.4444444444444444,
             "#bd3786"
            ],
            [
             0.5555555555555556,
             "#d8576b"
            ],
            [
             0.6666666666666666,
             "#ed7953"
            ],
            [
             0.7777777777777778,
             "#fb9f3a"
            ],
            [
             0.8888888888888888,
             "#fdca26"
            ],
            [
             1,
             "#f0f921"
            ]
           ],
           "sequentialminus": [
            [
             0,
             "#0d0887"
            ],
            [
             0.1111111111111111,
             "#46039f"
            ],
            [
             0.2222222222222222,
             "#7201a8"
            ],
            [
             0.3333333333333333,
             "#9c179e"
            ],
            [
             0.4444444444444444,
             "#bd3786"
            ],
            [
             0.5555555555555556,
             "#d8576b"
            ],
            [
             0.6666666666666666,
             "#ed7953"
            ],
            [
             0.7777777777777778,
             "#fb9f3a"
            ],
            [
             0.8888888888888888,
             "#fdca26"
            ],
            [
             1,
             "#f0f921"
            ]
           ]
          },
          "colorway": [
           "#636efa",
           "#EF553B",
           "#00cc96",
           "#ab63fa",
           "#FFA15A",
           "#19d3f3",
           "#FF6692",
           "#B6E880",
           "#FF97FF",
           "#FECB52"
          ],
          "font": {
           "color": "#2a3f5f"
          },
          "geo": {
           "bgcolor": "white",
           "lakecolor": "white",
           "landcolor": "#E5ECF6",
           "showlakes": true,
           "showland": true,
           "subunitcolor": "white"
          },
          "hoverlabel": {
           "align": "left"
          },
          "hovermode": "closest",
          "mapbox": {
           "style": "light"
          },
          "paper_bgcolor": "white",
          "plot_bgcolor": "#E5ECF6",
          "polar": {
           "angularaxis": {
            "gridcolor": "white",
            "linecolor": "white",
            "ticks": ""
           },
           "bgcolor": "#E5ECF6",
           "radialaxis": {
            "gridcolor": "white",
            "linecolor": "white",
            "ticks": ""
           }
          },
          "scene": {
           "xaxis": {
            "backgroundcolor": "#E5ECF6",
            "gridcolor": "white",
            "gridwidth": 2,
            "linecolor": "white",
            "showbackground": true,
            "ticks": "",
            "zerolinecolor": "white"
           },
           "yaxis": {
            "backgroundcolor": "#E5ECF6",
            "gridcolor": "white",
            "gridwidth": 2,
            "linecolor": "white",
            "showbackground": true,
            "ticks": "",
            "zerolinecolor": "white"
           },
           "zaxis": {
            "backgroundcolor": "#E5ECF6",
            "gridcolor": "white",
            "gridwidth": 2,
            "linecolor": "white",
            "showbackground": true,
            "ticks": "",
            "zerolinecolor": "white"
           }
          },
          "shapedefaults": {
           "line": {
            "color": "#2a3f5f"
           }
          },
          "ternary": {
           "aaxis": {
            "gridcolor": "white",
            "linecolor": "white",
            "ticks": ""
           },
           "baxis": {
            "gridcolor": "white",
            "linecolor": "white",
            "ticks": ""
           },
           "bgcolor": "#E5ECF6",
           "caxis": {
            "gridcolor": "white",
            "linecolor": "white",
            "ticks": ""
           }
          },
          "title": {
           "x": 0.05
          },
          "xaxis": {
           "automargin": true,
           "gridcolor": "white",
           "linecolor": "white",
           "ticks": "",
           "title": {
            "standoff": 15
           },
           "zerolinecolor": "white",
           "zerolinewidth": 2
          },
          "yaxis": {
           "automargin": true,
           "gridcolor": "white",
           "linecolor": "white",
           "ticks": "",
           "title": {
            "standoff": 15
           },
           "zerolinecolor": "white",
           "zerolinewidth": 2
          }
         }
        },
        "title": {
         "text": "Graph Visualization with Shortest Path Tree"
        },
        "xaxis": {
         "showgrid": false,
         "showticklabels": false,
         "zeroline": false
        },
        "yaxis": {
         "showgrid": false,
         "showticklabels": false,
         "zeroline": false
        }
       }
      }
     },
     "metadata": {},
     "output_type": "display_data"
    }
   ],
   "source": [
    "import plotly.graph_objects as go\n",
    "import igraph as ig\n",
    "\n",
    "# Create the graph\n",
    "g = ig.Graph.Weighted_Adjacency(df.to_numpy().tolist(), mode=\"undirected\")\n",
    "\n",
    "# Get node positions using a layout\n",
    "layout = g.layout(\"kamada_kawai\")\n",
    "positions = {idx: pos for idx, pos in enumerate(layout)}\n",
    "\n",
    "\n",
    "# Extract edges and weights\n",
    "edges = g.get_edgelist()\n",
    "weights = g.es[\"weight\"]\n",
    "\n",
    "# Function to reconstruct shortest path tree\n",
    "def shortest_path_tree(predecessors):\n",
    "    tree_edges = set()\n",
    "    n = len(df)\n",
    "    for v in range(n):\n",
    "        for u in range(n):\n",
    "            if u != v and predecessors[u, v] != -9999:\n",
    "                parent = predecessors[u, v]\n",
    "                while parent != u:\n",
    "                    tree_edges.add((min(parent, v), max(parent, v)))\n",
    "                    v, parent = parent, predecessors[u, parent]\n",
    "    return tree_edges\n",
    "\n",
    "# Compute shortest path tree\n",
    "shortest_tree_edges = shortest_path_tree(predecessors)\n",
    "\n",
    "# Plot\n",
    "fig = go.Figure()\n",
    "\n",
    "# Add edges\n",
    "for (src, dst), weight in zip(edges, weights):\n",
    "    x0, y0 = positions[src]\n",
    "    x1, y1 = positions[dst]\n",
    "    color = \"red\" if (min(src, dst), max(src, dst)) in shortest_tree_edges else \"gray\"\n",
    "    width = 3 if color == \"red\" else 1\n",
    "    fig.add_trace(go.Scatter(\n",
    "        x=[x0, x1, None], y=[y0, y1, None],\n",
    "        line=dict(width=width, color=color),\n",
    "        hoverinfo=\"text\",\n",
    "        text=f\"{df.index[src]} ↔ {df.index[dst]} ({weight})\",\n",
    "        mode=\"lines\"\n",
    "    ))\n",
    "\n",
    "# Add nodes\n",
    "fig.add_trace(go.Scatter(\n",
    "    x=[pos[0] for pos in positions.values()],\n",
    "    y=[pos[1] for pos in positions.values()],\n",
    "    mode=\"markers+text\",\n",
    "    marker=dict(size=10, color=\"blue\"),\n",
    "    text=[df.index[idx] for idx in positions],\n",
    "    textposition=\"top center\"\n",
    "))\n",
    "\n",
    "fig.update_layout(\n",
    "    showlegend=False,\n",
    "    title=\"Graph Visualization with Shortest Path Tree\",\n",
    "    xaxis=dict(showgrid=False, zeroline=False, showticklabels=False),\n",
    "    yaxis=dict(showgrid=False, zeroline=False, showticklabels=False)\n",
    ")\n",
    "\n",
    "fig.show()"
   ]
  },
  {
   "cell_type": "markdown",
   "metadata": {},
   "source": [
    "## Sources\n",
    "\n",
    "https://en.wikipedia.org/wiki/Floyd%E2%80%93Warshall_algorithm\n",
    "\n",
    "https://en.wikipedia.org/wiki/Shortest-path_tree\n",
    "\n",
    "https://docs.scipy.org/doc/scipy/reference/generated/scipy.sparse.csgraph.floyd_warshall.html"
   ]
  },
  {
   "cell_type": "code",
   "execution_count": 13,
   "metadata": {},
   "outputs": [
    {
     "name": "stdout",
     "output_type": "stream",
     "text": [
      "598 * 64 + 53\n"
     ]
    }
   ],
   "source": [
    "nwood = 38325\n",
    "print(nwood // 64, \"* 64 +\", nwood % 64)"
   ]
  },
  {
   "cell_type": "code",
   "execution_count": 14,
   "metadata": {},
   "outputs": [
    {
     "name": "stdout",
     "output_type": "stream",
     "text": [
      "37 * 4096 + 16\n"
     ]
    }
   ],
   "source": [
    "nleaves = 153040\n",
    "print(nleaves // 4096, \"* 4096 +\", nleaves % 64)"
   ]
  },
  {
   "cell_type": "code",
   "execution_count": 15,
   "metadata": {},
   "outputs": [
    {
     "data": {
      "text/plain": [
       "57056"
      ]
     },
     "execution_count": 15,
     "metadata": {},
     "output_type": "execute_result"
    }
   ],
   "source": [
    "4096 * 11 + 12000"
   ]
  }
 ],
 "metadata": {
  "kernelspec": {
   "display_name": "lvde-graduation",
   "language": "python",
   "name": "python3"
  },
  "language_info": {
   "codemirror_mode": {
    "name": "ipython",
    "version": 3
   },
   "file_extension": ".py",
   "mimetype": "text/x-python",
   "name": "python",
   "nbconvert_exporter": "python",
   "pygments_lexer": "ipython3",
   "version": "3.10.12"
  }
 },
 "nbformat": 4,
 "nbformat_minor": 2
}
